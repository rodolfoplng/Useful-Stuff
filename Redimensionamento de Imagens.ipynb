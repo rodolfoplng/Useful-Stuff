{
 "cells": [
  {
   "cell_type": "code",
   "execution_count": 1,
   "id": "b45fc7d0",
   "metadata": {},
   "outputs": [],
   "source": [
    "from PIL import Image\n",
    "import os\n",
    "\n",
    "def redimensionar_imagens(diretorio_entrada, diretorio_saida, largura, altura):\n",
    "    # Verifica se o diretório de saída existe, senão cria\n",
    "    if not os.path.exists(diretorio_saida):\n",
    "        os.makedirs(diretorio_saida)\n",
    "\n",
    "    # Loop através dos arquivos no diretório de entrada\n",
    "    for arquivo in os.listdir(diretorio_entrada):\n",
    "        # Verifica se o arquivo é uma imagem\n",
    "        if arquivo.endswith(\".jpg\") or arquivo.endswith(\".jpeg\") or arquivo.endswith(\".png\"):\n",
    "            # Abre a imagem\n",
    "            imagem = Image.open(os.path.join(diretorio_entrada, arquivo))\n",
    "            \n",
    "            # Redimensiona a imagem\n",
    "            imagem_redimensionada = imagem.resize((largura, altura))\n",
    "            \n",
    "            # Salva a imagem redimensionada no diretório de saída\n",
    "            imagem_redimensionada.save(os.path.join(diretorio_saida, arquivo))"
   ]
  },
  {
   "cell_type": "code",
   "execution_count": 5,
   "id": "81e5e643",
   "metadata": {},
   "outputs": [],
   "source": [
    "diretorio_entrada = r\"C:\\Users\\compras.cp01\\Desktop\\Imagens para encarte\"\n",
    "diretorio_saida = r\"C:\\Users\\compras.cp01\\Desktop\\Imagens redimensiondas\"\n",
    "largura = 1500\n",
    "altura = 1500\n",
    "\n",
    "redimensionar_imagens(diretorio_entrada, diretorio_saida, largura, altura)"
   ]
  },
  {
   "cell_type": "code",
   "execution_count": null,
   "id": "22d2187b",
   "metadata": {},
   "outputs": [],
   "source": []
  }
 ],
 "metadata": {
  "kernelspec": {
   "display_name": "Python 3 (ipykernel)",
   "language": "python",
   "name": "python3"
  },
  "language_info": {
   "codemirror_mode": {
    "name": "ipython",
    "version": 3
   },
   "file_extension": ".py",
   "mimetype": "text/x-python",
   "name": "python",
   "nbconvert_exporter": "python",
   "pygments_lexer": "ipython3",
   "version": "3.10.9"
  }
 },
 "nbformat": 4,
 "nbformat_minor": 5
}
